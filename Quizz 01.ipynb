{
 "cells": [
  {
   "cell_type": "markdown",
   "metadata": {},
   "source": [
    "## Scenario 01: Employee Performance Evaluation\n",
    "\n",
    "In a large corporation, the HR department needs to evaluate the performance of employees based on their sales records and customer satisfaction ratings. They want to identify the top-performing employees based on a weighted score that combines sales performance and customer satisfaction.\n",
    "\n",
    "Hint: Use List comprehemsion & Lambda Functions\n",
    "\n",
    "#### Sample data: List of tuples containing employee names, sales figures, and customer satisfaction ratings\n",
    "\n",
    "employees = [\n",
    "    (\"John\", 50000, 4.5),\n",
    "    (\"Alice\", 60000, 4.7),\n",
    "    (\"Bob\", 45000, 4.2),\n",
    "    (\"Emma\", 55000, 4.6),\n",
    "    (\"James\", 48000, 4.4)\n",
    "]\n",
    "\n",
    "#### Define weights for sales performance and customer satisfaction ratings\n",
    "sales_weight = 0.6\n",
    "satisfaction_weight = 0.4\n",
    "\n",
    "\n"
   ]
  },
  {
   "cell_type": "code",
   "execution_count": 36,
   "metadata": {},
   "outputs": [
    {
     "name": "stdout",
     "output_type": "stream",
     "text": [
      "Top-performing employee with their sales figures and customer satisfaction ratings:\n",
      "1. Alice: High Score - 36001.88, Sales Figure - 60000, Satisfaction Rating - 4.7\n"
     ]
    }
   ],
   "source": [
    "employees = [(\"John\", 50000, 4.5), (\"Alice\", 60000, 4.7), (\"Bob\", 45000, 4.2), (\"Emma\", 55000, 4.6), (\"James\", 48000, 4.4)]\n",
    "\n",
    "sales_weight = 0.6 \n",
    "satisfaction_weight = 0.4\n",
    "\n",
    "high_scores = [(name, (sales_weight * sales) + (satisfaction_weight * satisfaction)) for name, sales, satisfaction in employees]\n",
    "\n",
    "sorted_employees = sorted(high_scores, key=lambda x: x[1], reverse=True)\n",
    "\n",
    "top_performing_employee = [employee for employee in sorted_employees if employee[1] == sorted_employees[0][1]]\n",
    "\n",
    "print(\"Top-performing employee with their sales figures and customer satisfaction ratings:\")\n",
    "for i, (name, score) in enumerate(top_performing_employee, start=1):\n",
    "    sales_figure = next(employee[1] for employee in employees if employee[0] == name)\n",
    "    satisfaction_rating = next(employee[2] for employee in employees if employee[0] == name)\n",
    "    print(f\"{i}. {name}: High Score - {score}, Sales Figure - {sales_figure}, Satisfaction Rating - {satisfaction_rating}\")"
   ]
  },
  {
   "cell_type": "markdown",
   "metadata": {},
   "source": [
    "## Scenario 02: Calculating Square Roots of Even Numbers\n",
    "\n",
    "Imagine you're tasked with calculating the square roots of even numbers from 1 to 10 using list comprehension and lambda functions."
   ]
  },
  {
   "cell_type": "code",
   "execution_count": 34,
   "metadata": {},
   "outputs": [
    {
     "name": "stdout",
     "output_type": "stream",
     "text": [
      "Square root of 1 is: 1.4142135623730951\n",
      "Square root of 2 is: 2.0\n",
      "Square root of 3 is: 2.449489742783178\n",
      "Square root of 4 is: 2.8284271247461903\n",
      "Square root of 5 is: 3.1622776601683795\n"
     ]
    }
   ],
   "source": [
    "even = lambda x: x %2 == 0\n",
    "even_numbers = list(range(1,11))\n",
    "square_roots_of_even = [((lambda x: x ** 0.5)(num)) for num in even_numbers if even(num)]\n",
    "\n",
    "for num, square_root in zip(even_numbers, square_roots_of_even):\n",
    "    print(f\"Square root of {num} is: {square_root}\")\n"
   ]
  },
  {
   "cell_type": "code",
   "execution_count": null,
   "metadata": {},
   "outputs": [],
   "source": []
  }
 ],
 "metadata": {
  "kernelspec": {
   "display_name": "base",
   "language": "python",
   "name": "python3"
  },
  "language_info": {
   "codemirror_mode": {
    "name": "ipython",
    "version": 3
   },
   "file_extension": ".py",
   "mimetype": "text/x-python",
   "name": "python",
   "nbconvert_exporter": "python",
   "pygments_lexer": "ipython3",
   "version": "3.11.5"
  }
 },
 "nbformat": 4,
 "nbformat_minor": 2
}
