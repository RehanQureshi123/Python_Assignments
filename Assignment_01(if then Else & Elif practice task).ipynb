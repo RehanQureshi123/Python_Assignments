{
 "cells": [
  {
   "cell_type": "code",
   "execution_count": 18,
   "metadata": {},
   "outputs": [
    {
     "name": "stdout",
     "output_type": "stream",
     "text": [
      "Sorry! You are not eligible for a bonus.\n"
     ]
    }
   ],
   "source": [
    "salary =float(input(\"Enter your Salary :\"))\n",
    "years_of_services =int(input(\"Enter your Years of Services\"))\n",
    "\n",
    "if years_of_services >5:\n",
    "     bonus_percentage =5\n",
    "     net_bonus=(bonus_percentage / 100)*salary\n",
    "\n",
    "     print(f\"Congratulation your are eligible for a {bonus_percentage}% bonus.\")\n",
    "     print(f\"Net bonus amount:${net_bonus:.2f}\")\n",
    "else:\n",
    "     print(f\"Sorry! You are not eligible for a bonus.\")\n"
   ]
  },
  {
   "cell_type": "code",
   "execution_count": 20,
   "metadata": {},
   "outputs": [
    {
     "name": "stdout",
     "output_type": "stream",
     "text": [
      "You're Eligible for voting\n"
     ]
    }
   ],
   "source": [
    "age =int(input(\"Enter your  age\"))\n",
    "\n",
    "if age >= 17:\n",
    "    print(\"You're Eligible for voting\")\n",
    "else:\n",
    "    print(\"You're Not Eligible for Voting\")"
   ]
  },
  {
   "cell_type": "code",
   "execution_count": 21,
   "metadata": {},
   "outputs": [
    {
     "name": "stdout",
     "output_type": "stream",
     "text": [
      "Number is Odd\n"
     ]
    }
   ],
   "source": [
    "number = int(input(\"Enter a Number\"))\n",
    "\n",
    "if number /2 ==0:\n",
    "    print(\"Number is Even\")\n",
    "else:\n",
    "    print(\"Number is Odd\")"
   ]
  },
  {
   "cell_type": "code",
   "execution_count": 24,
   "metadata": {},
   "outputs": [
    {
     "name": "stdout",
     "output_type": "stream",
     "text": [
      "The number 12 is not divisible by 7\n"
     ]
    }
   ],
   "source": [
    "number = int(input(\"Enter a Number\"))\n",
    "\n",
    "if number % 7 == 0:\n",
    "    print(f\"The number {number} is divisible by 7\")\n",
    "else:\n",
    "    print(f\"The number {number} is not divisible by 7\")"
   ]
  },
  {
   "cell_type": "code",
   "execution_count": 26,
   "metadata": {},
   "outputs": [
    {
     "name": "stdout",
     "output_type": "stream",
     "text": [
      "Hello\n"
     ]
    }
   ],
   "source": [
    "number= int(input(\"Enter a Number\"))\n",
    "\n",
    "if number % 5 ==0:\n",
    "    print(\"Hello\")\n",
    "else:\n",
    "    print(\"Bye\")"
   ]
  },
  {
   "cell_type": "code",
   "execution_count": 28,
   "metadata": {},
   "outputs": [
    {
     "name": "stdout",
     "output_type": "stream",
     "text": [
      "The total bill amount is Rs.1120\n"
     ]
    }
   ],
   "source": [
    "units = int(input(\"Enter the number of units\"))\n",
    "\n",
    "if units <=100:\n",
    "    bill_amount= 0\n",
    "elif 100 < units <=300:\n",
    "    bill_amount=(units - 100)* 5\n",
    "elif units >300:\n",
    "     bill_amount = (200 *5) + (units -300) *10\n",
    "\n",
    "\n",
    "     print(f\"The total bill amount is Rs.{bill_amount}\")"
   ]
  },
  {
   "cell_type": "code",
   "execution_count": 45,
   "metadata": {},
   "outputs": [
    {
     "name": "stdout",
     "output_type": "stream",
     "text": [
      "The last digit of 5 is 5.\n"
     ]
    }
   ],
   "source": [
    "number = int(input(\"Enter a Number\"))\n",
    "\n",
    "last_digit=  number %10 \n",
    "print(f\"The last digit of {number} is {last_digit}.\")"
   ]
  },
  {
   "cell_type": "code",
   "execution_count": 49,
   "metadata": {},
   "outputs": [
    {
     "name": "stdout",
     "output_type": "stream",
     "text": [
      "The last digit (6) number is Divisible by 3.\n"
     ]
    }
   ],
   "source": [
    "number =int(input(\"Enter a Number\"))\n",
    "\n",
    "last_digit = number % 10\n",
    "\n",
    "if last_digit %3==0:\n",
    "    print(f\"The last digit ({last_digit}) number is Divisible by 3.\")\n",
    "else:\n",
    "    print(f\"The last digit ({last_digit}) number is Not divisible by 3.\")"
   ]
  },
  {
   "cell_type": "code",
   "execution_count": 1,
   "metadata": {},
   "outputs": [
    {
     "name": "stdout",
     "output_type": "stream",
     "text": [
      "It's a Square\n"
     ]
    }
   ],
   "source": [
    "length = float(input(\"Enter a Length of rectangle\"))\n",
    "breadth =float(input(\"Enter a Breadth of rectangle\"))\n",
    "\n",
    "if length ==breadth:\n",
    "    print(\"It's a Square\")\n",
    "else:\n",
    "    print(\"It's a Rectangle\")    "
   ]
  },
  {
   "cell_type": "code",
   "execution_count": 52,
   "metadata": {},
   "outputs": [
    {
     "name": "stdout",
     "output_type": "stream",
     "text": [
      "The Greatest Number is {num1}\n"
     ]
    }
   ],
   "source": [
    "num1 = int(input(\"Enter a First value\"))\n",
    "num2 = int(input(\"Enter a Second value\"))\n",
    "\n",
    "if num1  > num2:\n",
    "    print(\"The Greatest Number is {num1}\")\n",
    "elif num1 <num2:\n",
    "    print(\"The Greatest Number is {num2}\")\n",
    "else:\n",
    "    print(\"Both Number is Equals to\")"
   ]
  },
  {
   "cell_type": "code",
   "execution_count": 55,
   "metadata": {},
   "outputs": [
    {
     "name": "stdout",
     "output_type": "stream",
     "text": [
      "Discount Applied! Total cost after 10% Discount : $90000.00\n"
     ]
    }
   ],
   "source": [
    "quantity = int(input(\"Enter your Quantity\"))\n",
    "unit_cost=100\n",
    "total_cost=quantity*100\n",
    "\n",
    "if total_cost >1000:\n",
    "    discount = 0.10 * total_cost\n",
    "    total_cost -= discount\n",
    "    print(f\"Discount Applied! Total cost after 10% Discount : ${total_cost:.2f}\")"
   ]
  },
  {
   "cell_type": "code",
   "execution_count": 73,
   "metadata": {},
   "outputs": [
    {
     "name": "stdout",
     "output_type": "stream",
     "text": [
      "Your Grade us {D}\n"
     ]
    }
   ],
   "source": [
    "marks = int(input(\"Enter Your Marks\"))\n",
    "\n",
    "if marks <= 25:\n",
    "    print(\"Your Grade is {E}\")\n",
    "elif marks <= 45:\n",
    "    print(\"Your Grade us {D}\")\n",
    "elif marks <= 50:\n",
    "    print(\"Your Grade is {C}\")\n",
    "elif marks <= 60:\n",
    "    print(\"Your Grade is {B}\")\n",
    "elif marks <= 80:\n",
    "    print(\"Your Grade is {A}\")"
   ]
  },
  {
   "cell_type": "code",
   "execution_count": 79,
   "metadata": {},
   "outputs": [
    {
     "name": "stdout",
     "output_type": "stream",
     "text": [
      "The Oldest People is 55 year old.\n",
      "The Youngest People is 33 year old\n"
     ]
    }
   ],
   "source": [
    "age1 = int(input(\"Enter First Person Age\"))\n",
    "age2 = int(input(\"Enter Second Person Age\"))\n",
    "age3 = int(input(\"Enter Third Person Age\"))\n",
    "\n",
    "oldest=max(age1,age2,age3)\n",
    "youngest=min(age1,age2,age3)\n",
    "\n",
    "print(f\"The Oldest People is {oldest} year old.\")\n",
    "print(f\"The Youngest People is {youngest} year old\")"
   ]
  },
  {
   "cell_type": "code",
   "execution_count": 3,
   "metadata": {},
   "outputs": [
    {
     "name": "stdout",
     "output_type": "stream",
     "text": [
      "Percentage of classes attended: 166.67%\n",
      "The Student is Allowed to sit in the Exam.\n"
     ]
    }
   ],
   "source": [
    "classes_held=int(input(\"Enter a number of classes held:\"))\n",
    "classes_attended=int(input(\"Enter a number of classes attended:\"))\n",
    "\n",
    "attendance_percentage = (classes_attended / classes_held) * 100\n",
    "\n",
    "if attendance_percentage >= 75:\n",
    "    print(f\"Percentage of classes attended: {attendance_percentage:.2f}%\")\n",
    "    print(\"The Student is Allowed to sit in the Exam.\")\n",
    "else: \n",
    "    print(f\"Percentage of Calsses attended: {attendance_percentage:.2f}%\")\n",
    "    print(\"The Student is not Allowed to sit in Exan Due to Low Attendance.\")"
   ]
  },
  {
   "cell_type": "code",
   "execution_count": 16,
   "metadata": {},
   "outputs": [
    {
     "name": "stdout",
     "output_type": "stream",
     "text": [
      "Percentage of classes attended: 150.00%\n",
      "The Student is Allowed to sit in the Exam.\n"
     ]
    }
   ],
   "source": [
    "classes_held = int(input(\"Enter a number of classes held:\"))\n",
    "classes_attended = int(input(\"Enter a number of classes attended:\"))\n",
    "\n",
    "attendance_percentage = (classes_attended / classes_held) * 100\n",
    "\n",
    "medical_cause = input(\"Do you have a medical cause? (Enter 'Y' or 'N')\")\n",
    "\n",
    "if attendance_percentage >= 75 or medical_cause.upper() =='Y':\n",
    "    print(f\"Percentage of classes attended: {attendance_percentage:.2f}%\")\n",
    "    print(\"The Student is Allowed to sit in the Exam.\")\n",
    "else: \n",
    "    print(f\"Percentage of Calsses attended: {attendance_percentage:.2f}%\")\n",
    "    print(\"The Student is not Allowed to sit in Exan Due to Low Attendance.\")"
   ]
  },
  {
   "cell_type": "code",
   "execution_count": 6,
   "metadata": {},
   "outputs": [
    {
     "name": "stdout",
     "output_type": "stream",
     "text": [
      "2000, is a Leap Year\n"
     ]
    }
   ],
   "source": [
    "year = int(input(\"Enter a Year\"))\n",
    "\n",
    "if (year % 4 == 0 and year % 100 != 0) or (year % 400 == 0):\n",
    "    print(f\"{year}, is a Leap Year\")\n",
    "else:\n",
    "    print(f\"{year}, is not a Leap Year\")"
   ]
  },
  {
   "cell_type": "code",
   "execution_count": 14,
   "metadata": {},
   "outputs": [
    {
     "name": "stdout",
     "output_type": "stream",
     "text": [
      "You may Work Anywhere\n"
     ]
    }
   ],
   "source": [
    "age = int(input(\"Enter Your Age\"))\n",
    "gender =(input(\"Enter Your Gender (M or F):\"))\n",
    "martial_status = input(\"Are You Married? (Y or N):\")\n",
    "\n",
    "if gender=='F':\n",
    "    print(\"She will Work in Urban Areas\")\n",
    "elif gender =='M' and 20 <=age <=40:\n",
    "    print(\"You may Work Anywhere\")\n",
    "elif gender == 'M' and 40 <=age <=60:\n",
    "    print(\"You will Work in Urban Areas only\")\n",
    "else:\n",
    "    print(\"ERROR\")"
   ]
  },
  {
   "cell_type": "code",
   "execution_count": null,
   "metadata": {},
   "outputs": [],
   "source": []
  }
 ],
 "metadata": {
  "kernelspec": {
   "display_name": "base",
   "language": "python",
   "name": "python3"
  },
  "language_info": {
   "codemirror_mode": {
    "name": "ipython",
    "version": 3
   },
   "file_extension": ".py",
   "mimetype": "text/x-python",
   "name": "python",
   "nbconvert_exporter": "python",
   "pygments_lexer": "ipython3",
   "version": "3.11.5"
  }
 },
 "nbformat": 4,
 "nbformat_minor": 2
}
