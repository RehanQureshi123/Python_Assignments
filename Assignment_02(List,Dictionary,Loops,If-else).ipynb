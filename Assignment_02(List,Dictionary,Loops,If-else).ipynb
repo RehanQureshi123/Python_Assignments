{
 "cells": [
  {
   "cell_type": "markdown",
   "metadata": {},
   "source": [
    "# Scenario 1: Grocery Shopping List :\n",
    "\n",
    "  You are creating a program to manage a grocery shopping list. Users should be\n",
    "able to add items, remove items, and display the current list."
   ]
  },
  {
   "cell_type": "code",
   "execution_count": 1,
   "metadata": {},
   "outputs": [
    {
     "name": "stdout",
     "output_type": "stream",
     "text": [
      "Unique items in the list:\n",
      "Item: orange\n",
      "Item: apple\n",
      "Item: mango\n",
      "No items removed.\n"
     ]
    }
   ],
   "source": [
    "items = []\n",
    "\n",
    "while True:\n",
    "    user_input = input(\"Enter an item to add to the list (press Enter to finish): \").lower().strip()\n",
    "    \n",
    "    if user_input:\n",
    "        items.append(user_input)\n",
    "    else:\n",
    "        break\n",
    "\n",
    "\n",
    "unique_items = set(items)\n",
    "print(\"Unique items in the list:\")\n",
    "for item in unique_items:\n",
    "    print(f\"Item: {item}\")\n",
    "\n",
    "remove_item = input(\"Do you want to remove any items? (yes/no): \").lower().strip()\n",
    "\n",
    "if remove_item == \"yes\":\n",
    "    item_to_remove = input(\"Enter the item you want to remove: \").lower().strip()\n",
    "    \n",
    "    if item_to_remove in items:\n",
    "        items.remove(item_to_remove)\n",
    "        print(f\"{item_to_remove} removed from the list.\")\n",
    "    else:\n",
    "        print(f\"{item_to_remove} not found in the list.\")\n",
    "else:\n",
    "    print(\"No items removed.\")"
   ]
  },
  {
   "cell_type": "markdown",
   "metadata": {},
   "source": [
    "# Scenario 2: Student Grades:\n",
    "\n",
    "  You are managing student grades using a dictionary. You need to\n",
    "calculate the average grade.take \n",
    "atleast 5 Students grades & then calculate the average. \n"
   ]
  },
  {
   "cell_type": "code",
   "execution_count": 3,
   "metadata": {},
   "outputs": [
    {
     "name": "stdout",
     "output_type": "stream",
     "text": [
      "Number of students: 5\n",
      "Average grade: 87.6\n"
     ]
    }
   ],
   "source": [
    "student_grades = {'Student1': 85,'Student2': 92,'Student3': 78,'Student4': 88,'Student5': 95,}\n",
    "total_grades = (85+92+78+88+95)\n",
    "\n",
    "number_of_students = len(student_grades)\n",
    "average_grade = total_grades / number_of_students\n",
    "\n",
    "\n",
    "\n",
    "print(f'Number of students: {number_of_students}')\n",
    "print(f'Average grade: {average_grade}')"
   ]
  },
  {
   "cell_type": "markdown",
   "metadata": {},
   "source": [
    "# Scenario 3: Word Frequency Counter:\n",
    "\n",
    "   You are given a list of words, and you need to count the frequency of each word. \n",
    "word_list = [\"apple\", \"banana\", \"apple\", \"orange\", \"banana\", \"grape\", \"apple\"] "
   ]
  },
  {
   "cell_type": "code",
   "execution_count": 4,
   "metadata": {},
   "outputs": [
    {
     "name": "stdout",
     "output_type": "stream",
     "text": [
      "Word Frequency:\n",
      "apple: 3 times\n",
      "banana: 2 times\n",
      "orange: 1 times\n",
      "grape: 1 times\n"
     ]
    }
   ],
   "source": [
    "word_list = [\"apple\", \"banana\", \"apple\", \"orange\", \"banana\", \"grape\", \"apple\"]\n",
    "\n",
    "def count_word_frequency(word_list):\n",
    "    word_counts = {}\n",
    "\n",
    "    for word in word_list:\n",
    "        if word not in word_counts:\n",
    "            word_counts[word] = 1\n",
    "        else:\n",
    "            word_counts[word] += 1\n",
    "\n",
    "    return word_counts\n",
    "\n",
    "def display_word_frequency(word_counts):\n",
    "    print(\"Word Frequency:\")\n",
    "    for word, count in word_counts.items():\n",
    "        print(f\"{word}: {count} times\")\n",
    "\n",
    "word_counts = count_word_frequency(word_list)\n",
    "\n",
    "display_word_frequency(word_counts)"
   ]
  },
  {
   "cell_type": "markdown",
   "metadata": {},
   "source": [
    "# Scenario 4: Password Strength Checker:\n",
    "\n",
    "   You are creating a program to check the strength of passwords\n",
    "based on certain criteria. \n",
    "• Password should be at least 8 characters long. \n",
    "• Password should contain at least one digit. \n",
    "• Password should contain at least one letter."
   ]
  },
  {
   "cell_type": "code",
   "execution_count": 8,
   "metadata": {},
   "outputs": [
    {
     "name": "stdout",
     "output_type": "stream",
     "text": [
      "Password is Strong\n"
     ]
    }
   ],
   "source": [
    "import re\n",
    "\n",
    "password = input(\"Enter Your Password: \")\n",
    "\n",
    "if len(password) < 8:\n",
    "    print(\"Password must be atleast 8 Characters long.\")\n",
    "\n",
    "elif not re.search(\"[A-Z]\", password):\n",
    "    print(\"Password must contain atleast one Letter.\")\n",
    "\n",
    "elif not re.search(\"[0-9]\", password):\n",
    "    print(\"Password must contain atleast one Digit.\")\n",
    "\n",
    "else:\n",
    "    print(\"Password is Strong\")"
   ]
  },
  {
   "cell_type": "markdown",
   "metadata": {},
   "source": [
    "# Scenario 5 : \n",
    "\n",
    "Voting System (Annual Employee Recognition Awards) "
   ]
  },
  {
   "cell_type": "code",
   "execution_count": 9,
   "metadata": {},
   "outputs": [
    {
     "name": "stdout",
     "output_type": "stream",
     "text": [
      "You are a voter\n",
      "------------------------------------\n",
      "To give vote to  PTI Press 1\n",
      "To give vote to  PMLN Press 2\n",
      "To give vote to  PPP Press 3\n",
      "------------------------------------\n",
      "PMLN Thank you for your vote.\n",
      "You are a voter\n",
      "------------------------------------\n",
      "To give vote to  PTI Press 1\n",
      "To give vote to  PMLN Press 2\n",
      "To give vote to  PPP Press 3\n",
      "------------------------------------\n",
      "PPP Thank you for your vote.\n",
      "You are a voter\n",
      "------------------------------------\n",
      "To give vote to  PTI Press 1\n",
      "To give vote to  PMLN Press 2\n",
      "To give vote to  PPP Press 3\n",
      "------------------------------------\n",
      "PTI Thank you for your vote.\n",
      "You are a voter\n",
      "------------------------------------\n",
      "To give vote to  PTI Press 1\n",
      "To give vote to  PMLN Press 2\n",
      "To give vote to  PPP Press 3\n",
      "------------------------------------\n",
      "PTI Thank you for your vote.\n",
      "You are a voter\n",
      "------------------------------------\n",
      "To give vote to  PTI Press 1\n",
      "To give vote to  PMLN Press 2\n",
      "To give vote to  PPP Press 3\n",
      "------------------------------------\n",
      "PTI Thank you for your vote.\n",
      "Voting Session is Over!!!\n",
      "Both have equal numbners of votes\n"
     ]
    }
   ],
   "source": [
    "Candidate1 = input(\"Enter the name of 1st Candidate: \")\n",
    "Candidate2 = input(\"Enter the name of 2nd Candidate: \")\n",
    "Candidate3 = input(\"Enter the name of 3rd Candidate: \")\n",
    "\n",
    "C1_votes = 0\n",
    "C2_votes = 0\n",
    "C3_votes = 0\n",
    "\n",
    "voter_id = [1,2,3,4,5]\n",
    "\n",
    "no_of_voter = len(voter_id)\n",
    "\n",
    "while True:\n",
    "    if voter_id ==[]:\n",
    "        print(\"Voting Session is Over!!!\")\n",
    "        if C1_votes> C2_votes>C3_votes:\n",
    "            percent = (C1_votes/no_of_voter)*100\n",
    "            print(Candidate1,\"has won the election with\",percent,\"%\")\n",
    "            break\n",
    "        \n",
    "        elif C2_votes> C1_votes>C3_votes:\n",
    "            percent=(C2_votes/no_of_voter)*100\n",
    "            print(Candidate2,\"has won the election with\", percent,\"%\")\n",
    "            break\n",
    "        elif C3_votes> C1_votes>C2_votes:\n",
    "            percent=(C3_votes/no_of_voter)*100\n",
    "            print(Candidate3,\"has won the election with\", percent,\"%\")\n",
    "            break\n",
    "        else:\n",
    "            print(\"Both have equal numbners of votes\")\n",
    "            break\n",
    "\n",
    "    voter = int(input(\"Enter your voter id: \"))\n",
    "    if voter in voter_id:\n",
    "        print(\"You are a voter\")\n",
    "        voter_id.remove(voter)\n",
    "        print(\"------------------------------------\")\n",
    "        print(\"To give vote to \",Candidate1, \"Press 1\")\n",
    "        print(\"To give vote to \",Candidate2, \"Press 2\")\n",
    "        print(\"To give vote to \",Candidate3, \"Press 3\")\n",
    "        print(\"------------------------------------\")\n",
    "        vote = int(input(\"Enter your Vote : \"))\n",
    "        if vote == 1 :\n",
    "            C1_votes +=1\n",
    "            print(Candidate1,\"Thank you for your vote.\")\n",
    "        elif vote == 2 :\n",
    "            C2_votes +=1\n",
    "            print(Candidate2,\"Thank you for your vote.\")\n",
    "        elif vote == 3 :\n",
    "            C3_votes +=1\n",
    "            print(Candidate3,\"Thank you for your vote.\")\n",
    "        elif vote >3:\n",
    "            print(\"Check your pressed key!!\")\n",
    "\n",
    "        else:\n",
    "            print(\"You are not a voter OR You have already voted.\")"
   ]
  },
  {
   "cell_type": "code",
   "execution_count": null,
   "metadata": {},
   "outputs": [],
   "source": []
  }
 ],
 "metadata": {
  "kernelspec": {
   "display_name": "base",
   "language": "python",
   "name": "python3"
  },
  "language_info": {
   "codemirror_mode": {
    "name": "ipython",
    "version": 3
   },
   "file_extension": ".py",
   "mimetype": "text/x-python",
   "name": "python",
   "nbconvert_exporter": "python",
   "pygments_lexer": "ipython3",
   "version": "3.11.5"
  }
 },
 "nbformat": 4,
 "nbformat_minor": 2
}
